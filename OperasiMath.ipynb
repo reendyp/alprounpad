{
 "cells": [
  {
   "cell_type": "code",
   "execution_count": 6,
   "metadata": {},
   "outputs": [
    {
     "name": "stdout",
     "output_type": "stream",
     "text": [
      "3.0 3\n",
      "2.8284271247461903 2*sqrt(2)\n"
     ]
    }
   ],
   "source": [
    "# Latihan 1\n",
    "\n",
    "import math as mt \n",
    "import sympy as sy\n",
    "\n",
    "a = mt.sqrt(9)\n",
    "b = sy.sqrt(9)\n",
    "c = mt.sqrt(8)\n",
    "d = sy.sqrt(8)\n",
    "\n",
    "print(a,b)\n",
    "print(c,d)"
   ]
  },
  {
   "cell_type": "code",
   "execution_count": 7,
   "metadata": {},
   "outputs": [
    {
     "name": "stdout",
     "output_type": "stream",
     "text": [
      "x + 2*y\n",
      "2*y\n",
      "(x + 2*y)**2\n"
     ]
    }
   ],
   "source": [
    "#latihan 2\n",
    "\n",
    "from sympy import symbols\n",
    "x,y = symbols('x y')\n",
    "z = x+2*y\n",
    "\n",
    "print(z)\n",
    "print(z-x)\n",
    "print(z**2)"
   ]
  },
  {
   "cell_type": "code",
   "execution_count": 8,
   "metadata": {},
   "outputs": [
    {
     "name": "stdout",
     "output_type": "stream",
     "text": [
      "x + 2*y\n",
      "2*y\n",
      "(x + 2*y)**2\n",
      "x + 2*y + 1\n",
      "x*(x + 2*y)\n"
     ]
    }
   ],
   "source": [
    "# latihan 3\n",
    "\n",
    "from sympy import symbols\n",
    "\n",
    "x,y = symbols('x y')\n",
    "z = x+2*y\n",
    "\n",
    "print(z)\n",
    "print(z-x)\n",
    "print(z**2)\n",
    "\n",
    "f = z+1\n",
    "print(f)\n",
    "g = x*z\n",
    "\n",
    "print(g)"
   ]
  },
  {
   "cell_type": "code",
   "execution_count": 9,
   "metadata": {},
   "outputs": [
    {
     "name": "stdout",
     "output_type": "stream",
     "text": [
      "Persamaan z =  x + 2*y\n",
      "Persamaan p1 =  x*(x + 2*y)\n",
      "Persamaan p2 =  x**2 + 2*x*y\n"
     ]
    }
   ],
   "source": [
    "#latihan 4\n",
    "\n",
    "from sympy import symbols, expand\n",
    "\n",
    "x,y = symbols ('x y')\n",
    "z = x+2*y\n",
    "p1 = x*z\n",
    "p2 = expand(p1)\n",
    "\n",
    "print('Persamaan z = ', z)\n",
    "print('Persamaan p1 = ', p1)\n",
    "print('Persamaan p2 = ', p2)"
   ]
  },
  {
   "cell_type": "code",
   "execution_count": 15,
   "metadata": {},
   "outputs": [
    {
     "name": "stdout",
     "output_type": "stream",
     "text": [
      "exp(x)*sin(x) exp(x)*sin(x) + exp(x)*cos(x) exp(x)*sin(x) + exp(x)*cos(x) exp(x)*sin(x) sqrt(2)*sqrt(pi)/2\n"
     ]
    }
   ],
   "source": [
    "# latihan 5\n",
    "\n",
    "from sympy import *\n",
    "x = symbols('x')\n",
    "p1 = sin(x)*exp(x)\n",
    "p2 = diff(p1,x)\n",
    "p3 = sin(x)*exp(x)+exp(x)*cos(x)\n",
    "p4 = integrate (p3, x)\n",
    "p5 = integrate(sin(x**2),(x,-oo,oo))\n",
    "\n",
    "\n",
    "\n",
    "print(p1,p2,p3,p4,p5)\n"
   ]
  },
  {
   "cell_type": "code",
   "execution_count": 14,
   "metadata": {},
   "outputs": [
    {
     "data": {
      "text/latex": [
       "$\\displaystyle e^{x} \\sin{\\left(x \\right)}$"
      ],
      "text/plain": [
       "exp(x)*sin(x)"
      ]
     },
     "metadata": {},
     "output_type": "display_data"
    },
    {
     "data": {
      "text/latex": [
       "$\\displaystyle e^{x} \\sin{\\left(x \\right)} + e^{x} \\cos{\\left(x \\right)}$"
      ],
      "text/plain": [
       "exp(x)*sin(x) + exp(x)*cos(x)"
      ]
     },
     "metadata": {},
     "output_type": "display_data"
    },
    {
     "data": {
      "text/latex": [
       "$\\displaystyle e^{x} \\sin{\\left(x \\right)} + e^{x} \\cos{\\left(x \\right)}$"
      ],
      "text/plain": [
       "exp(x)*sin(x) + exp(x)*cos(x)"
      ]
     },
     "metadata": {},
     "output_type": "display_data"
    },
    {
     "data": {
      "text/latex": [
       "$\\displaystyle e^{x} \\sin{\\left(x \\right)}$"
      ],
      "text/plain": [
       "exp(x)*sin(x)"
      ]
     },
     "metadata": {},
     "output_type": "display_data"
    },
    {
     "data": {
      "text/latex": [
       "$\\displaystyle \\frac{\\sqrt{2} \\sqrt{\\pi}}{2}$"
      ],
      "text/plain": [
       "sqrt(2)*sqrt(pi)/2"
      ]
     },
     "metadata": {},
     "output_type": "display_data"
    }
   ],
   "source": [
    "#latihan 6\n",
    "\n",
    "from sympy import *\n",
    "x = symbols ('x')\n",
    "\n",
    "p1 = sin(x)*exp(x)\n",
    "p2 = diff(p1, x)\n",
    "p3 = sin(x)*exp(x)+exp(x)*cos(x)\n",
    "p4 = integrate(p3, x)\n",
    "p5 = integrate(sin(x**2),(x,-oo,oo))\n",
    "\n",
    "display(p1)\n",
    "display(p2)\n",
    "display(p3)\n",
    "display(p4)\n",
    "display(p5)"
   ]
  },
  {
   "cell_type": "code",
   "execution_count": 16,
   "metadata": {},
   "outputs": [
    {
     "data": {
      "text/latex": [
       "$\\displaystyle 1$"
      ],
      "text/plain": [
       "1"
      ]
     },
     "metadata": {},
     "output_type": "display_data"
    },
    {
     "data": {
      "text/latex": [
       "$\\displaystyle 0$"
      ],
      "text/plain": [
       "0"
      ]
     },
     "metadata": {},
     "output_type": "display_data"
    },
    {
     "data": {
      "text/plain": [
       "[-1, 3]"
      ]
     },
     "metadata": {},
     "output_type": "display_data"
    },
    {
     "data": {
      "text/latex": [
       "$\\displaystyle \\sin^{2}{\\left(x \\right)} + \\cos^{2}{\\left(x \\right)}$"
      ],
      "text/plain": [
       "sin(x)**2 + cos(x)**2"
      ]
     },
     "metadata": {},
     "output_type": "display_data"
    },
    {
     "data": {
      "text/latex": [
       "$\\displaystyle 1$"
      ],
      "text/plain": [
       "1"
      ]
     },
     "metadata": {},
     "output_type": "display_data"
    }
   ],
   "source": [
    "from sympy import *\n",
    "x = symbols ('x')\n",
    "\n",
    "x1 = limit(sin(x)/x,x,0)\n",
    "x2 = limit(sin(x)/x,x,pi/1)\n",
    "x3 = solve(x**2-2*x-3,x)\n",
    "x4 = sin(x)**2+cos(x)**2\n",
    "x5 = simplify(x4)\n",
    "\n",
    "display(x1)\n",
    "display(x2)\n",
    "display(x3)\n",
    "display(x4)\n",
    "display(x5)"
   ]
  },
  {
   "cell_type": "code",
   "execution_count": 24,
   "metadata": {},
   "outputs": [
    {
     "data": {
      "text/plain": [
       "[(-b - sqrt(-4*a*c + b**2))/(2*a), (-b + sqrt(-4*a*c + b**2))/(2*a)]"
      ]
     },
     "metadata": {},
     "output_type": "display_data"
    }
   ],
   "source": [
    "# Tugas akhir 1\n",
    "# a akar akar persamaan polinomial\n",
    "\n",
    "from sympy import *\n",
    "x, a, b, c = symbols('x a b c') # definisikan semua variabel yang ada dalam menyelesaikan pemfaktoran kuadrat, contoh dalam diskriminan ada variiabel a b dan c\n",
    "\n",
    "y = solve(a*x**2+b*x+c,x)\n",
    "\n",
    "display(y)\n"
   ]
  },
  {
   "cell_type": "code",
   "execution_count": 20,
   "metadata": {},
   "outputs": [
    {
     "data": {
      "text/plain": [
       "[-1/2, 1/3, 2]"
      ]
     },
     "metadata": {},
     "output_type": "display_data"
    }
   ],
   "source": [
    "# Tugas akhir 1\n",
    "#b \n",
    "\n",
    "from sympy import *\n",
    "x = symbols ('x')\n",
    "eq = 6*x**3-11*x**2-3*x+2\n",
    "\n",
    "roots = solve(eq, x)\n",
    "\n",
    "display(roots)"
   ]
  },
  {
   "cell_type": "code",
   "execution_count": 25,
   "metadata": {},
   "outputs": [
    {
     "data": {
      "text/latex": [
       "$\\displaystyle - \\frac{x^{2}}{\\sqrt{1 - x^{2}}} + \\sqrt{1 - x^{2}}$"
      ],
      "text/plain": [
       "-x**2/sqrt(1 - x**2) + sqrt(1 - x**2)"
      ]
     },
     "metadata": {},
     "output_type": "display_data"
    }
   ],
   "source": [
    "# Tugas akhir 2\n",
    "#a\n",
    "\n",
    "from sympy import *\n",
    "import sympy as sy\n",
    "x = symbols('x')\n",
    "\n",
    "eq = x*sy.sqrt((1-x**2))\n",
    "\n",
    "deq = diff(eq,x)\n",
    "\n",
    "display(deq)\n",
    "\n",
    "    "
   ]
  },
  {
   "cell_type": "code",
   "execution_count": 30,
   "metadata": {},
   "outputs": [
    {
     "data": {
      "text/latex": [
       "$\\displaystyle - 28 \\sin{\\left(7 x - 5 \\right)}$"
      ],
      "text/plain": [
       "-28*sin(7*x - 5)"
      ]
     },
     "metadata": {},
     "output_type": "display_data"
    }
   ],
   "source": [
    "#b\n",
    "from sympy import symbols, diff, cos\n",
    "x = symbols('x')\n",
    "\n",
    "eq = 4*cos(5-7*x)\n",
    "\n",
    "deq = diff(eq,x)\n",
    "\n",
    "display(deq)"
   ]
  },
  {
   "cell_type": "code",
   "execution_count": 32,
   "metadata": {},
   "outputs": [
    {
     "data": {
      "text/latex": [
       "$\\displaystyle \\frac{3 x^{2}}{2 x + 3} - \\frac{2 \\left(x^{3} + 4\\right)}{\\left(2 x + 3\\right)^{2}}$"
      ],
      "text/plain": [
       "3*x**2/(2*x + 3) - 2*(x**3 + 4)/(2*x + 3)**2"
      ]
     },
     "metadata": {},
     "output_type": "display_data"
    }
   ],
   "source": [
    "#c\n",
    "\n",
    "from sympy import symbols, diff\n",
    "x = symbols('x')\n",
    "\n",
    "eq = (x**3+4)/(2*x+3)\n",
    "\n",
    "deq = diff(eq,x)\n",
    "\n",
    "display(deq)"
   ]
  },
  {
   "cell_type": "code",
   "execution_count": 38,
   "metadata": {},
   "outputs": [
    {
     "name": "stdout",
     "output_type": "stream",
     "text": [
      "log(x + 1)/3 - log(x**2 - x + 1)/6 + sqrt(3)*atan(2*sqrt(3)*x/3 - sqrt(3)/3)/3\n",
      "2*x**2*sqrt(x + 2)/5 + 4*x*sqrt(x + 2)/15 - 16*sqrt(x + 2)/15\n",
      "sin(x)*cos(x)\n",
      "2\n"
     ]
    },
    {
     "data": {
      "text/latex": [
       "$\\displaystyle \\frac{\\log{\\left(x + 1 \\right)}}{3} - \\frac{\\log{\\left(x^{2} - x + 1 \\right)}}{6} + \\frac{\\sqrt{3} \\operatorname{atan}{\\left(\\frac{2 \\sqrt{3} x}{3} - \\frac{\\sqrt{3}}{3} \\right)}}{3}$"
      ],
      "text/plain": [
       "log(x + 1)/3 - log(x**2 - x + 1)/6 + sqrt(3)*atan(2*sqrt(3)*x/3 - sqrt(3)/3)/3"
      ]
     },
     "metadata": {},
     "output_type": "display_data"
    },
    {
     "data": {
      "text/latex": [
       "$\\displaystyle \\frac{2 x^{2} \\sqrt{x + 2}}{5} + \\frac{4 x \\sqrt{x + 2}}{15} - \\frac{16 \\sqrt{x + 2}}{15}$"
      ],
      "text/plain": [
       "2*x**2*sqrt(x + 2)/5 + 4*x*sqrt(x + 2)/15 - 16*sqrt(x + 2)/15"
      ]
     },
     "metadata": {},
     "output_type": "display_data"
    },
    {
     "data": {
      "text/latex": [
       "$\\displaystyle \\sin{\\left(x \\right)} \\cos{\\left(x \\right)}$"
      ],
      "text/plain": [
       "sin(x)*cos(x)"
      ]
     },
     "metadata": {},
     "output_type": "display_data"
    },
    {
     "data": {
      "text/latex": [
       "$\\displaystyle 2$"
      ],
      "text/plain": [
       "2"
      ]
     },
     "metadata": {},
     "output_type": "display_data"
    }
   ],
   "source": [
    "from sympy import symbols, cos, sin # tulis semua elemen matematis yang ada didalam persamaan atau mtk\n",
    "x = symbols ('x')\n",
    "eq = 1/(1+x**3)\n",
    "eq2 = x*sy.sqrt(2+x)\n",
    "eq3 = ((cos(x)+sin(x))*(cos(x)-sin(x)))\n",
    "eq4 = cos(x)+sin(x)\n",
    "\n",
    "itg = integrate(eq,x)\n",
    "itg2 = integrate(eq2,x)\n",
    "itg3 = integrate(eq3, x)\n",
    "itg4 = integrate(eq4, (x, 0, pi/2)) # (x, 0, pi/2) integrasi dilakukan dengan x sebagai variabel dengan batas awal 0 dan batas akhir adalah pi/2\n",
    "\n",
    "print(itg)\n",
    "print(itg2)\n",
    "print(itg3)\n",
    "print(itg4)\n",
    "\n",
    "display(itg)\n",
    "display(itg2)\n",
    "display(itg3)\n",
    "display(itg4)"
   ]
  }
 ],
 "metadata": {
  "kernelspec": {
   "display_name": "Python 3",
   "language": "python",
   "name": "python3"
  },
  "language_info": {
   "codemirror_mode": {
    "name": "ipython",
    "version": 3
   },
   "file_extension": ".py",
   "mimetype": "text/x-python",
   "name": "python",
   "nbconvert_exporter": "python",
   "pygments_lexer": "ipython3",
   "version": "3.11.5"
  }
 },
 "nbformat": 4,
 "nbformat_minor": 2
}
